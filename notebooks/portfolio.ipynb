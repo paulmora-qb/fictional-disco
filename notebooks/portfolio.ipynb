{
 "cells": [
  {
   "cell_type": "code",
   "execution_count": 1,
   "metadata": {},
   "outputs": [],
   "source": [
    "import pandas as pd"
   ]
  },
  {
   "cell_type": "code",
   "execution_count": 2,
   "metadata": {},
   "outputs": [],
   "source": [
    "predictions = pd.read_csv(\"../data/07_model_output/ml_technique_modeling/predictions_merged\")\n",
    "performance = pd.read_csv(\n",
    "    \"../data/07_model_output/ml_technique_modeling/performance_concatenated\"\n",
    ")"
   ]
  },
  {
   "cell_type": "code",
   "execution_count": 4,
   "metadata": {},
   "outputs": [
    {
     "data": {
      "text/html": [
       "<div>\n",
       "<style scoped>\n",
       "    .dataframe tbody tr th:only-of-type {\n",
       "        vertical-align: middle;\n",
       "    }\n",
       "\n",
       "    .dataframe tbody tr th {\n",
       "        vertical-align: top;\n",
       "    }\n",
       "\n",
       "    .dataframe thead th {\n",
       "        text-align: right;\n",
       "    }\n",
       "</style>\n",
       "<table border=\"1\" class=\"dataframe\">\n",
       "  <thead>\n",
       "    <tr style=\"text-align: right;\">\n",
       "      <th></th>\n",
       "      <th>Unnamed: 0</th>\n",
       "      <th>Fold</th>\n",
       "      <th>MSE</th>\n",
       "      <th>MAPE</th>\n",
       "      <th>MAE</th>\n",
       "      <th>R2</th>\n",
       "      <th>RMSE</th>\n",
       "      <th>Ticker</th>\n",
       "      <th>RMSLE</th>\n",
       "    </tr>\n",
       "  </thead>\n",
       "  <tbody>\n",
       "    <tr>\n",
       "      <th>0</th>\n",
       "      <td>0</td>\n",
       "      <td>Mean</td>\n",
       "      <td>6.5897</td>\n",
       "      <td>0.0259</td>\n",
       "      <td>1.8701</td>\n",
       "      <td>0.8670</td>\n",
       "      <td>2.4682</td>\n",
       "      <td>NKE</td>\n",
       "      <td>0.0329</td>\n",
       "    </tr>\n",
       "    <tr>\n",
       "      <th>1</th>\n",
       "      <td>1</td>\n",
       "      <td>Mean</td>\n",
       "      <td>69.9783</td>\n",
       "      <td>0.0323</td>\n",
       "      <td>6.4898</td>\n",
       "      <td>0.8504</td>\n",
       "      <td>7.9100</td>\n",
       "      <td>GS</td>\n",
       "      <td>0.0391</td>\n",
       "    </tr>\n",
       "  </tbody>\n",
       "</table>\n",
       "</div>"
      ],
      "text/plain": [
       "   Unnamed: 0  Fold      MSE    MAPE     MAE      R2    RMSE Ticker   RMSLE\n",
       "0           0  Mean   6.5897  0.0259  1.8701  0.8670  2.4682    NKE  0.0329\n",
       "1           1  Mean  69.9783  0.0323  6.4898  0.8504  7.9100     GS  0.0391"
      ]
     },
     "execution_count": 4,
     "metadata": {},
     "output_type": "execute_result"
    }
   ],
   "source": [
    "performance"
   ]
  },
  {
   "cell_type": "code",
   "execution_count": 7,
   "metadata": {},
   "outputs": [],
   "source": [
    "pred_cols = [\"GS_prediction_label\", \"NKE_prediction_label\"]\n",
    "stocks = predictions.loc[:, pred_cols]"
   ]
  },
  {
   "cell_type": "code",
   "execution_count": 9,
   "metadata": {},
   "outputs": [],
   "source": [
    "returns = stocks.pct_change().dropna()"
   ]
  },
  {
   "cell_type": "code",
   "execution_count": 11,
   "metadata": {},
   "outputs": [
    {
     "name": "stdout",
     "output_type": "stream",
     "text": [
      "Optimal Weights:  [0.40223445 0.59776555]\n",
      "Expected Portfolio Return:  0.13563560654558243\n",
      "Expected Portfolio Volatility:  0.22708966719750132\n",
      "Sharpe Ratio:  0.5972777547276922\n"
     ]
    }
   ],
   "source": [
    "import pandas as pd\n",
    "import numpy as np\n",
    "from scipy.optimize import minimize\n",
    "\n",
    "\n",
    "def portfolio_performance(weights, mean_returns, cov_matrix, risk_free_rate=0.0):\n",
    "    # Annualize returns and volatility\n",
    "    returns = np.sum(mean_returns * weights) * 252  # Annualizing the return\n",
    "    std = np.sqrt(np.dot(weights.T, np.dot(cov_matrix, weights))) * np.sqrt(\n",
    "        252\n",
    "    )  # Annualizing the volatility\n",
    "    sharpe_ratio = (returns - risk_free_rate) / std  # Calculating the Sharpe Ratio\n",
    "    return returns, std, sharpe_ratio\n",
    "\n",
    "\n",
    "def negative_sharpe_ratio(weights, mean_returns, cov_matrix, risk_free_rate=0.0):\n",
    "    _, _, sharpe_ratio = portfolio_performance(\n",
    "        weights, mean_returns, cov_matrix, risk_free_rate\n",
    "    )\n",
    "    return -sharpe_ratio\n",
    "\n",
    "\n",
    "def get_constraints():\n",
    "    return {\"type\": \"eq\", \"fun\": lambda x: np.sum(x) - 1}\n",
    "\n",
    "\n",
    "def get_bounds(num_assets):\n",
    "    return tuple((0, 1) for asset in range(num_assets))\n",
    "\n",
    "\n",
    "num_assets = len(returns.columns)\n",
    "initial_guess = num_assets * [\n",
    "    1.0 / num_assets,\n",
    "]\n",
    "\n",
    "mean_returns = returns.mean()\n",
    "cov_matrix = returns.cov()\n",
    "risk_free_rate = 0.0  # Adjust as needed\n",
    "\n",
    "result = minimize(\n",
    "    negative_sharpe_ratio,\n",
    "    initial_guess,\n",
    "    args=(mean_returns, cov_matrix, risk_free_rate),\n",
    "    method=\"SLSQP\",\n",
    "    bounds=get_bounds(num_assets),\n",
    "    constraints=get_constraints(),\n",
    ")\n",
    "\n",
    "optimal_weights = result.x\n",
    "\n",
    "portfolio_return, portfolio_volatility, portfolio_sharpe = portfolio_performance(\n",
    "    optimal_weights, mean_returns, cov_matrix, risk_free_rate\n",
    ")\n",
    "\n",
    "print(\"Optimal Weights: \", optimal_weights)\n",
    "print(\"Expected Portfolio Return: \", portfolio_return)\n",
    "print(\"Expected Portfolio Volatility: \", portfolio_volatility)\n",
    "print(\"Sharpe Ratio: \", portfolio_sharpe)"
   ]
  },
  {
   "cell_type": "code",
   "execution_count": null,
   "metadata": {},
   "outputs": [],
   "source": []
  }
 ],
 "metadata": {
  "kernelspec": {
   "display_name": "disco",
   "language": "python",
   "name": "python3"
  },
  "language_info": {
   "codemirror_mode": {
    "name": "ipython",
    "version": 3
   },
   "file_extension": ".py",
   "mimetype": "text/x-python",
   "name": "python",
   "nbconvert_exporter": "python",
   "pygments_lexer": "ipython3",
   "version": "3.10.14"
  }
 },
 "nbformat": 4,
 "nbformat_minor": 2
}
