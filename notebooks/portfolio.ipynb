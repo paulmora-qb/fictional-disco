{
 "cells": [
  {
   "cell_type": "code",
   "execution_count": null,
   "metadata": {},
   "outputs": [],
   "source": [
    "import pandas as pd\n",
    "import numpy as np"
   ]
  },
  {
   "cell_type": "code",
   "execution_count": null,
   "metadata": {},
   "outputs": [],
   "source": [
    "dates = pd.date_range(start=\"2024-06-01\", periods=5, freq='D')\n",
    "data = {\n",
    "    'AAPL': [130.41, 131.40, 130.85, 133.56, 133.94],\n",
    "    'GOOGL': [2750.00, 2745.50, 2760.40, 2770.30, 2780.10],\n",
    "    'MSFT': [310.50, 311.60, 309.90, 312.45, 313.70]\n",
    "}\n",
    "df = pd.DataFrame(data, index=dates)\n",
    "df"
   ]
  },
  {
   "cell_type": "code",
   "execution_count": null,
   "metadata": {},
   "outputs": [],
   "source": [
    "features = pd.read_csv(\"../data/02_intermediate/price_data.csv\")\n",
    "prices = features.pivot(\n",
    "    index=\"date\", columns=\"stock_ticker\", values=\"adj_close\"\n",
    ")\n",
    "prices"
   ]
  },
  {
   "cell_type": "code",
   "execution_count": null,
   "metadata": {},
   "outputs": [],
   "source": [
    "signals = pd.read_csv(\n",
    "    \"../data/07_model_output/ml_technique_modeling/signals_concatenated\"\n",
    ")\n",
    "signals_time_index = signals.set_index(\"timestamp\")\n",
    "signals_time_index.index = signals_time_index.index.astype(\"str\")\n",
    "signals_time_index"
   ]
  },
  {
   "cell_type": "code",
   "execution_count": null,
   "metadata": {},
   "outputs": [],
   "source": [
    "weights = pd.DataFrame(\n",
    "    np.full(signals_time_index.shape, 1 / signals_time_index.shape[1]),\n",
    "    index=signals_time_index.index,\n",
    "    columns=signals_time_index.columns,\n",
    ")\n",
    "weights"
   ]
  },
  {
   "cell_type": "code",
   "execution_count": null,
   "metadata": {},
   "outputs": [],
   "source": [
    "def calc_portfolio_returns(\n",
    "    prices: pd.DataFrame, weights: pd.DataFrame\n",
    ") -> pd.DataFrame:\n",
    "    returns = prices.pct_change(fill_method=None)\n",
    "    portfolio_returns = (returns * weights).sum(axis=1)\n",
    "    return portfolio_returns.to_frame(name=\"Portfolio Returns\")"
   ]
  },
  {
   "cell_type": "code",
   "execution_count": null,
   "metadata": {},
   "outputs": [],
   "source": [
    "def adj_portfolio_returns(\n",
    "    portfolio_returns: pd.DataFrame,\n",
    "    signals: pd.DataFrame,\n",
    "    trading_cost_params: dict[str, float],\n",
    ") -> pd.DataFrame:\n",
    "\n",
    "    bp_trading_cost = trading_cost_params[\"bp_trading_cost\"] / 10000\n",
    "\n",
    "    portfolio_returns.loc[:, \"Cumulative Returns\"] = (\n",
    "        1 + portfolio_returns.loc[:, \"Portfolio Returns\"]\n",
    "    ).cumprod()\n",
    "\n",
    "    # Calculate the changes in trade signals (buy/sell)\n",
    "    trade_signals = signals.diff().fillna(signals)  # TODO: Not sure whether that is correct to fill the values with the original signals since I would usually buy them before the signal is given on the closing price yday.\n",
    "    # Calculate the position sizes at each time step based on weights and cumulative returns\n",
    "    position_sizes = portfolio_returns.loc[:, \"Cumulative Returns\"].shift(1).fillna(1)\n",
    "    investment_changes = trade_signals.multiply(position_sizes, axis=0).abs()\n",
    "    # Calculate trading costs\n",
    "    trading_costs = investment_changes * bp_trading_cost\n",
    "    portfolio_returns.loc[:, \"Total Trading Costs\"] = trading_costs.sum(axis=1)\n",
    "    portfolio_returns.loc[:, \"Normalized Trading Costs\"] = (\n",
    "        portfolio_returns.loc[:, \"Total Trading Costs\"]\n",
    "        / portfolio_returns.loc[:, \"Cumulative Returns\"]\n",
    "    )\n",
    "    portfolio_returns.loc[:, \"Adjusted Portfolio Returns\"] = portfolio_returns.loc[\n",
    "        :, \"Portfolio Returns\"\n",
    "    ] - portfolio_returns.loc[:, \"Normalized Trading Costs\"]\n",
    "    return portfolio_returns"
   ]
  },
  {
   "cell_type": "code",
   "execution_count": null,
   "metadata": {},
   "outputs": [],
   "source": [
    "def mean_return(returns: pd.Series) -> float:\n",
    "    \"\"\"Calculate the mean return of returns.\"\"\"\n",
    "    return returns.mean()\n",
    "\n",
    "\n",
    "def std_deviation(returns: pd.Series) -> float:\n",
    "    \"\"\"Calculate the standard deviation of returns.\"\"\"\n",
    "    return returns.std()\n",
    "\n",
    "\n",
    "def cagr(returns: pd.Series) -> float:\n",
    "    \"\"\"Calculate the Compound Annual Growth Rate (CAGR) of returns.\"\"\"\n",
    "    returns.index = pd.to_datetime(returns.index)\n",
    "    total_period = (returns.index[-1] - returns.index[0]).days / 365.25\n",
    "    cumulative_return = (1 + returns).prod() - 1\n",
    "    cagr_value = (1 + cumulative_return) ** (1 / total_period) - 1\n",
    "    return cagr_value\n",
    "\n",
    "\n",
    "def max_drawdown(returns: pd.Series) -> float:\n",
    "    \"\"\"Calculate the maximum drawdown of returns.\"\"\"\n",
    "    cumulative = (1 + returns).cumprod()\n",
    "    peak = cumulative.cummax()\n",
    "    drawdown = (cumulative - peak) / peak\n",
    "    max_dd = drawdown.min()\n",
    "    return max_dd\n",
    "\n",
    "\n",
    "def calmar_ratio(returns: pd.Series) -> float:\n",
    "    \"\"\"Calculate the Calmar ratio of returns.\"\"\"\n",
    "    return cagr(returns) / abs(max_drawdown(returns))\n",
    "\n",
    "\n",
    "def sharpe_ratio(returns: pd.Series, risk_free_rate: float = 0.0) -> float:\n",
    "    \"\"\"Calculate the Sharpe ratio of returns.\"\"\"\n",
    "    excess_returns = returns - risk_free_rate / 252\n",
    "    return excess_returns.mean() / returns.std() * np.sqrt(252)\n",
    "\n",
    "\n",
    "def calculate_performance_metrics(portfolio_returns: pd.DataFrame) -> pd.DataFrame:\n",
    "    portfolio_returns = portfolio_returns.loc[:, \"Adjusted Portfolio Returns\"]\n",
    "    return {\n",
    "        \"mean_return\": mean_return(portfolio_returns),\n",
    "        \"variance_return\": std_deviation(portfolio_returns),\n",
    "        \"sharpe_ratio\": sharpe_ratio(portfolio_returns),\n",
    "        \"cagr\": cagr(portfolio_returns),\n",
    "        \"max_drawdown\": max_drawdown(portfolio_returns),\n",
    "        \"calmar_ratio\": calmar_ratio(portfolio_returns),\n",
    "        \"sharpe_ratio\": sharpe_ratio(portfolio_returns),\n",
    "    }"
   ]
  },
  {
   "cell_type": "code",
   "execution_count": null,
   "metadata": {},
   "outputs": [],
   "source": [
    "from fpdf import FPDF\n",
    "\n",
    "\n",
    "def dict_to_pdf(dictionary, pdf_filename):\n",
    "    pdf = FPDF()\n",
    "    pdf.add_page()\n",
    "    pdf.set_auto_page_break(auto=True, margin=15)\n",
    "    pdf.set_font(\"Arial\", size=12)\n",
    "\n",
    "    # Define the width of columns (total page width is 210mm for A4 size)\n",
    "    col_width = pdf.w / 2.5\n",
    "    row_height = pdf.font_size * 1.5\n",
    "\n",
    "    # Add a title\n",
    "    pdf.set_font(\"Arial\", \"B\", 14)\n",
    "    pdf.cell(0, 10, \"Strategy Performance\", 0, 1, \"C\")\n",
    "    pdf.set_font(\"Arial\", size=12)\n",
    "\n",
    "    # Create the table\n",
    "    for key, value in dictionary.items():\n",
    "        pdf.cell(col_width, row_height, str(key), border=1)\n",
    "        pdf.cell(col_width, row_height, str(round(value, 2)), border=1, ln=1)\n",
    "\n",
    "    pdf.output(pdf_filename)\n",
    "dict_to_pdf(returns, \"performance_metrics.pdf\")"
   ]
  },
  {
   "cell_type": "code",
   "execution_count": null,
   "metadata": {},
   "outputs": [],
   "source": [
    "def plot_columns(\n",
    "    plotting_dataframe: pd.DataFrame, plotting_params: dict[str, list[str]]\n",
    "):\n",
    "    \"\"\"\n",
    "    Plots specified columns from a DataFrame based on the provided parameters.\n",
    "\n",
    "    Parameters:\n",
    "    plotting_dataframe (pd.DataFrame): DataFrame containing the data to plot.\n",
    "    plotting_params (dict[str, list[str]]): Dictionary with a single key 'columns'\n",
    "                                            and a list of column names to plot.\n",
    "    \"\"\"\n",
    "    columns_to_plot = plotting_params.get(\"columns\", [])\n",
    "\n",
    "    plt.figure(figsize=(10, 6))\n",
    "\n",
    "    for column in columns_to_plot:\n",
    "        if column in plotting_dataframe.columns:\n",
    "            plt.plot(plotting_dataframe[column], label=column)\n",
    "        else:\n",
    "            print(f\"Warning: Column '{column}' not found in DataFrame.\")\n",
    "\n",
    "    plt.legend()\n",
    "    plt.xlabel(\"Index\")\n",
    "    plt.ylabel(\"Value\")\n",
    "    plt.title(\"Plot of Specified Columns\")\n",
    "    plt.grid(True)\n",
    "    return plt"
   ]
  },
  {
   "cell_type": "code",
   "execution_count": null,
   "metadata": {},
   "outputs": [],
   "source": [
    "return_df = calc_portfolio_returns(prices, weights)\n",
    "adj_return_df = adj_portfolio_returns(\n",
    "    portfolio_returns, signals_time_index, {\"bp_trading_cost\": 10}\n",
    ")\n",
    "plotting_params = {\"columns\": [\"Portfolio Returns\", \"Adjusted Portfolio Returns\"]}\n",
    "plot = plot_columns(adj_return_df, plotting_params)"
   ]
  },
  {
   "cell_type": "code",
   "execution_count": null,
   "metadata": {},
   "outputs": [],
   "source": []
  }
 ],
 "metadata": {
  "kernelspec": {
   "display_name": "disco",
   "language": "python",
   "name": "python3"
  },
  "language_info": {
   "codemirror_mode": {
    "name": "ipython",
    "version": 3
   },
   "file_extension": ".py",
   "mimetype": "text/x-python",
   "name": "python",
   "nbconvert_exporter": "python",
   "pygments_lexer": "ipython3",
   "version": "3.10.14"
  }
 },
 "nbformat": 4,
 "nbformat_minor": 2
}
